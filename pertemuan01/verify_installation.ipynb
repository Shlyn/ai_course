{
 "cells": [
  {
   "cell_type": "code",
   "execution_count": 1,
   "id": "06b87304-a5a3-40aa-9684-36bb16d76bbb",
   "metadata": {},
   "outputs": [
    {
     "name": "stdout",
     "output_type": "stream",
     "text": [
      "numpy: OK, version = 2.1.2\n",
      "pandas: OK, version = 2.3.2\n",
      "sklearn: OK, version = 1.7.2\n",
      "skfuzzy: OK, version = 0.5.0\n",
      "cv2: OK, version = 4.12.0\n",
      "matplotlib: OK, version = 3.10.6\n",
      "nltk: OK, version = 3.9.1\n",
      "Python: 3.13.7 | packaged by Anaconda, Inc. | (main, Sep  9 2025, 19:54:37) [MSC v.1929 64 bit (AMD64)]\n"
     ]
    }
   ],
   "source": [
    "import sys\n",
    "import importlib\n",
    "\n",
    "packages = [\"numpy\", \"pandas\", \"sklearn\", \"skfuzzy\", \"cv2\", \"matplotlib\", \"nltk\"]\n",
    "\n",
    "for pkg in packages:\n",
    "    try:\n",
    "        m = importlib.import_module(pkg)\n",
    "        version = getattr(m, \"__version__\", \"unknown\")  # most packages use __version__\n",
    "        print(f\"{pkg}: OK, version = {version}\")\n",
    "    except Exception as e:\n",
    "        print(f\"{pkg}: ERROR - {e}\")\n",
    "\n",
    "print(\"Python:\", sys.version)"
   ]
  },
  {
   "cell_type": "code",
   "execution_count": null,
   "id": "df176f2c-95e4-4a29-a6b1-c376d4cb8cac",
   "metadata": {},
   "outputs": [],
   "source": []
  }
 ],
 "metadata": {
  "kernelspec": {
   "display_name": "Python 3 (ipykernel)",
   "language": "python",
   "name": "python3"
  },
  "language_info": {
   "codemirror_mode": {
    "name": "ipython",
    "version": 3
   },
   "file_extension": ".py",
   "mimetype": "text/x-python",
   "name": "python",
   "nbconvert_exporter": "python",
   "pygments_lexer": "ipython3",
   "version": "3.13.7"
  }
 },
 "nbformat": 4,
 "nbformat_minor": 5
}
